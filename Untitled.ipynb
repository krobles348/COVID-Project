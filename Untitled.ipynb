{
 "cells": [
  {
   "cell_type": "code",
   "execution_count": 2,
   "id": "601b4018-7c7b-4fb1-8778-e5b00ebe8e48",
   "metadata": {},
   "outputs": [
    {
     "name": "stdout",
     "output_type": "stream",
     "text": [
      "Defaulting to user installation because normal site-packages is not writeable\n",
      "Requirement already satisfied: folium in /opt/conda/lib/python3.11/site-packages (0.17.0)\n",
      "Requirement already satisfied: branca>=0.6.0 in /opt/conda/lib/python3.11/site-packages (from folium) (0.7.2)\n",
      "Requirement already satisfied: jinja2>=2.9 in /opt/conda/lib/python3.11/site-packages (from folium) (3.1.3)\n",
      "Requirement already satisfied: numpy in /opt/conda/lib/python3.11/site-packages (from folium) (1.26.4)\n",
      "Requirement already satisfied: requests in /opt/conda/lib/python3.11/site-packages (from folium) (2.31.0)\n",
      "Requirement already satisfied: xyzservices in /opt/conda/lib/python3.11/site-packages (from folium) (2024.4.0)\n",
      "Requirement already satisfied: MarkupSafe>=2.0 in /opt/conda/lib/python3.11/site-packages (from jinja2>=2.9->folium) (2.1.5)\n",
      "Requirement already satisfied: charset-normalizer<4,>=2 in /opt/conda/lib/python3.11/site-packages (from requests->folium) (3.3.2)\n",
      "Requirement already satisfied: idna<4,>=2.5 in /opt/conda/lib/python3.11/site-packages (from requests->folium) (3.7)\n",
      "Requirement already satisfied: urllib3<3,>=1.21.1 in /opt/conda/lib/python3.11/site-packages (from requests->folium) (2.2.1)\n",
      "Requirement already satisfied: certifi>=2017.4.17 in /opt/conda/lib/python3.11/site-packages (from requests->folium) (2024.8.30)\n",
      "Defaulting to user installation because normal site-packages is not writeable\n",
      "Requirement already satisfied: geopy in /home/kroblesleyva/.local/lib/python3.11/site-packages (2.4.1)\n",
      "Requirement already satisfied: geographiclib<3,>=1.52 in /home/kroblesleyva/.local/lib/python3.11/site-packages (from geopy) (2.0)\n"
     ]
    }
   ],
   "source": [
    "!pip install folium\n",
    "!pip install geopy"
   ]
  },
  {
   "cell_type": "code",
   "execution_count": 5,
   "id": "2fc128ba-66ed-45ef-8902-c659a7e4bfd4",
   "metadata": {},
   "outputs": [],
   "source": [
    "import pandas as pd\n",
    "data = pd.read_csv('colleges.csv')\n",
    "filtered_data = data[data['cases_2021'] > 500]\n",
    "filtered_data.to_csv('filtered_colleges.csv', index=False)"
   ]
  },
  {
   "cell_type": "code",
   "execution_count": 26,
   "id": "7db52b4a-a15b-42e4-b247-dbd1ae3d039e",
   "metadata": {},
   "outputs": [],
   "source": [
    "import pandas as pd\n",
    "import folium\n",
    "from geopy.geocoders import Nominatim\n",
    "\n",
    "# Load filtered data\n",
    "data = pd.read_csv('filtered_colleges.csv')\n",
    "\n",
    "# Initialize geolocator (for geocoding addresses)\n",
    "geolocator = Nominatim(user_agent=\"college_map_app\")\n",
    "\n",
    "# Function to get latitude and longitude\n",
    "def geocode_address(row):\n",
    "    try:\n",
    "        # Create the address from state, county, city (You can adjust the format if needed)\n",
    "        address = f\"{row['city']}, {row['county']}, {row['state']}, USA\"\n",
    "        location = geolocator.geocode(address)\n",
    "        if location:\n",
    "            return location.latitude, location.longitude\n",
    "        else:\n",
    "            return None, None\n",
    "    except Exception as e:\n",
    "        return None, None\n",
    "\n",
    "# Apply geocoding function to each row and create new columns for latitude and longitude\n",
    "data['latitude'], data['longitude'] = zip(*data.apply(geocode_address, axis=1))\n",
    "\n",
    "# Drop rows where geocoding failed (i.e., latitude or longitude is None)\n",
    "data = data.dropna(subset=['latitude', 'longitude'])\n",
    "\n",
    "# Create a map centered on the US\n",
    "us_map = folium.Map(location=[39.8283, -98.5795], zoom_start=5)  # Coordinates of the US center\n",
    "\n",
    "# Add markers for each college location\n",
    "for _, row in data.iterrows():\n",
    "    folium.Marker(\n",
    "        location=[row['latitude'], row['longitude']],\n",
    "        popup=row['college'],  # Show college name when clicked\n",
    "    ).add_to(us_map)\n",
    "\n",
    "# Save the map to an HTML file\n",
    "us_map.save(\"colleges_map.html\")\n"
   ]
  },
  {
   "cell_type": "code",
   "execution_count": 27,
   "id": "941de387-9ff8-4111-a078-9f9de02cd49b",
   "metadata": {},
   "outputs": [],
   "source": [
    "import pandas as pd\n",
    "import folium\n",
    "from folium.plugins import HeatMap\n",
    "from geopy.geocoders import Nominatim\n",
    "\n",
    "# Load filtered data\n",
    "data = pd.read_csv('filtered_colleges.csv')\n",
    "\n",
    "# Initialize geolocator (for geocoding addresses)\n",
    "geolocator = Nominatim(user_agent=\"college_map_app\")\n",
    "\n",
    "# Function to get latitude and longitude\n",
    "def geocode_address(row):\n",
    "    try:\n",
    "        # Create the address from state, county, city (You can adjust the format if needed)\n",
    "        address = f\"{row['city']}, {row['county']}, {row['state']}, USA\"\n",
    "        location = geolocator.geocode(address)\n",
    "        if location:\n",
    "            return location.latitude, location.longitude\n",
    "        else:\n",
    "            return None, None\n",
    "    except Exception as e:\n",
    "        return None, None\n",
    "\n",
    "# Apply geocoding function to each row and create new columns for latitude and longitude\n",
    "data['latitude'], data['longitude'] = zip(*data.apply(geocode_address, axis=1))\n",
    "\n",
    "# Drop rows where geocoding failed (i.e., latitude or longitude is None)\n",
    "data = data.dropna(subset=['latitude', 'longitude'])\n",
    "\n",
    "# Create a map centered on the US\n",
    "us_map = folium.Map(location=[39.8283, -98.5795], zoom_start=5)  # Coordinates of the US center\n",
    "\n",
    "# Create a list of coordinates (latitude, longitude) for the heatmap\n",
    "heat_data = [[row['latitude'], row['longitude']] for _, row in data.iterrows()]\n",
    "\n",
    "# Add the heatmap layer to the map\n",
    "HeatMap(heat_data).add_to(us_map)\n",
    "\n",
    "# Save the map to an HTML file\n",
    "us_map.save(\"colleges_heatmap.html\")\n",
    "\n"
   ]
  },
  {
   "cell_type": "code",
   "execution_count": 4,
   "id": "3915944e-10fb-47c9-9d89-615c8064eb0d",
   "metadata": {},
   "outputs": [
    {
     "name": "stdout",
     "output_type": "stream",
     "text": [
      "Welcome to this simulation, here you can find the total COVID cases up to May 2021 and the COVID cases reported from 2021 up to May 2021\n"
     ]
    },
    {
     "name": "stdin",
     "output_type": "stream",
     "text": [
      "Enter the name of the college and type 'leave' to exit):  Leave\n"
     ]
    },
    {
     "name": "stdout",
     "output_type": "stream",
     "text": [
      "Work here is done!\n"
     ]
    }
   ],
   "source": [
    "data = pd.read_csv('colleges.csv')\n",
    "\n",
    "print(\"Welcome to this simulation, here you can find the total COVID cases up to May 2021 and the COVID cases reported from 2021 up to May 2021\")\n",
    "def college_cases(csv_filename, college):\n",
    "    with open(csv_filename, mode='r') as file:\n",
    "        csv_reader = csv.DictReader(file)\n",
    "        \n",
    "        for row in csv_reader:\n",
    "            if row['college'].lower() == college.lower():  \n",
    "                cases = row['cases']\n",
    "                cases_2021 = row['cases_2021'] \n",
    "                return cases, cases_2021\n",
    "        return None, None \n",
    "\n",
    "while True:\n",
    "    college = input(\"Enter the name of the college and type 'leave' to exit): \")\n",
    "\n",
    "    if college.lower() == 'leave':\n",
    "        print(\"Work here is done!\")\n",
    "        break  \n",
    "\n",
    "    cases, cases_2021 = college_cases('colleges.csv', college)\n",
    "\n",
    "    if cases is None:\n",
    "        print(\"College was not found, please write the full name (For example, write University of California, Los Angeles, instead of UCLA\")\n",
    "    else:\n",
    "        print(\"The number of cases is \" +  cases + \" total, and \" +  cases_2021 + \" in 2021\")\n"
   ]
  }
 ],
 "metadata": {
  "kernelspec": {
   "display_name": "Python 3 (ipykernel)",
   "language": "python",
   "name": "python3"
  },
  "language_info": {
   "codemirror_mode": {
    "name": "ipython",
    "version": 3
   },
   "file_extension": ".py",
   "mimetype": "text/x-python",
   "name": "python",
   "nbconvert_exporter": "python",
   "pygments_lexer": "ipython3",
   "version": "3.11.9"
  }
 },
 "nbformat": 4,
 "nbformat_minor": 5
}

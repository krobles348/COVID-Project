{
 "cells": [
  {
   "cell_type": "code",
   "execution_count": 2,
   "id": "b6139529-463d-408e-96e9-ec948deabaee",
   "metadata": {},
   "outputs": [
    {
     "name": "stdout",
     "output_type": "stream",
     "text": [
      "Welcome to this simulation, here you can find the total COVID cases up to May 2021 and the COVID cases reported from 2021 up to May 2021\n"
     ]
    },
    {
     "name": "stdin",
     "output_type": "stream",
     "text": [
      "Enter the name of the college and type 'leave' to exit:  ucsd\n"
     ]
    },
    {
     "name": "stdout",
     "output_type": "stream",
     "text": [
      "College was not found, please write the full name (For example, write University of California, Los Angeles, instead of UCLA)\n"
     ]
    },
    {
     "name": "stdin",
     "output_type": "stream",
     "text": [
      "Enter the name of the college and type 'leave' to exit:  leave\n"
     ]
    },
    {
     "name": "stdout",
     "output_type": "stream",
     "text": [
      "Work here is done!\n"
     ]
    }
   ],
   "source": [
    "import pandas as pd\n",
    "\n",
    "# Read the CSV into a DataFrame\n",
    "data = pd.read_csv('colleges.csv')\n",
    "\n",
    "print(\"Welcome to this simulation, here you can find the total COVID cases up to May 2021 and the COVID cases reported from 2021 up to May 2021\")\n",
    "\n",
    "# Function to get the COVID cases for a given college\n",
    "def college_cases(df, college):\n",
    "    # Filter the DataFrame for the college\n",
    "    college_data = df[df['college'].str.lower() == college.lower()]\n",
    "    \n",
    "    if not college_data.empty:\n",
    "        # Get the cases data for the college\n",
    "        cases = college_data.iloc[0]['cases']\n",
    "        cases_2021 = college_data.iloc[0]['cases_2021']\n",
    "        return cases, cases_2021\n",
    "    else:\n",
    "        return None, None\n",
    "\n",
    "while True:\n",
    "    college = input(\"Enter the name of the college and type 'leave' to exit: \")\n",
    "\n",
    "    if college.lower() == 'leave':\n",
    "        print(\"Work here is done!\")\n",
    "        break  \n",
    "\n",
    "    cases, cases_2021 = college_cases(data, college)\n",
    "\n",
    "    if cases is None:\n",
    "        print(\"College was not found, please write the full name (For example, write University of California, Los Angeles, instead of UCLA)\")\n",
    "    else:\n",
    "        print(\"The number of cases is \" + str(cases) + \" total, and \" + str(cases_2021) + \" in 2021\")\n"
   ]
  }
 ],
 "metadata": {
  "kernelspec": {
   "display_name": "Python 3 (ipykernel)",
   "language": "python",
   "name": "python3"
  },
  "language_info": {
   "codemirror_mode": {
    "name": "ipython",
    "version": 3
   },
   "file_extension": ".py",
   "mimetype": "text/x-python",
   "name": "python",
   "nbconvert_exporter": "python",
   "pygments_lexer": "ipython3",
   "version": "3.11.9"
  }
 },
 "nbformat": 4,
 "nbformat_minor": 5
}

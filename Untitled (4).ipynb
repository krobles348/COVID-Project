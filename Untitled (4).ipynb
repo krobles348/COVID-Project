{
 "cells": [
  {
   "cell_type": "code",
   "execution_count": null,
   "id": "d6cd76a5-d685-4d2f-98f8-ad21190866ad",
   "metadata": {},
   "outputs": [],
   "source": []
  },
  {
   "cell_type": "code",
   "execution_count": null,
   "id": "2fc128ba-66ed-45ef-8902-c659a7e4bfd4",
   "metadata": {},
   "outputs": [],
   "source": [
    "import pandas as pd\n",
    "data = pd.read_csv('colleges.csv')\n",
    "filtered_data = data[data['cases_2021'] > 500]\n",
    "filtered_data.to_csv('filtered_colleges.csv', index=False)"
   ]
  },
  {
   "cell_type": "code",
   "execution_count": 26,
   "id": "7db52b4a-a15b-42e4-b247-dbd1ae3d039e",
   "metadata": {},
   "outputs": [],
   "source": [
    "import pandas as pd\n",
    "import folium\n",
    "from geopy.geocoders import Nominatim\n",
    "\n",
    "# Load filtered data\n",
    "data = pd.read_csv('filtered_colleges.csv')\n",
    "\n",
    "# Initialize geolocator (for geocoding addresses)\n",
    "geolocator = Nominatim(user_agent=\"college_map_app\")\n",
    "\n",
    "# Function to get latitude and longitude\n",
    "def geocode_address(row):\n",
    "    try:\n",
    "        # Create the address from state, county, city (You can adjust the format if needed)\n",
    "        address = f\"{row['city']}, {row['county']}, {row['state']}, USA\"\n",
    "        location = geolocator.geocode(address)\n",
    "        if location:\n",
    "            return location.latitude, location.longitude\n",
    "        else:\n",
    "            return None, None\n",
    "    except Exception as e:\n",
    "        return None, None\n",
    "\n",
    "# Apply geocoding function to each row and create new columns for latitude and longitude\n",
    "data['latitude'], data['longitude'] = zip(*data.apply(geocode_address, axis=1))\n",
    "\n",
    "# Drop rows where geocoding failed (i.e., latitude or longitude is None)\n",
    "data = data.dropna(subset=['latitude', 'longitude'])\n",
    "\n",
    "# Create a map centered on the US\n",
    "us_map = folium.Map(location=[39.8283, -98.5795], zoom_start=5)  # Coordinates of the US center\n",
    "\n",
    "# Add markers for each college location\n",
    "for _, row in data.iterrows():\n",
    "    folium.Marker(\n",
    "        location=[row['latitude'], row['longitude']],\n",
    "        popup=row['college'],  # Show college name when clicked\n",
    "    ).add_to(us_map)\n",
    "\n",
    "# Save the map to an HTML file\n",
    "us_map.save(\"colleges_map.html\")\n"
   ]
  },
  {
   "cell_type": "code",
   "execution_count": 27,
   "id": "941de387-9ff8-4111-a078-9f9de02cd49b",
   "metadata": {},
   "outputs": [],
   "source": [
    "import pandas as pd\n",
    "import folium\n",
    "from folium.plugins import HeatMap\n",
    "from geopy.geocoders import Nominatim\n",
    "\n",
    "# Load filtered data\n",
    "data = pd.read_csv('filtered_colleges.csv')\n",
    "\n",
    "# Initialize geolocator (for geocoding addresses)\n",
    "geolocator = Nominatim(user_agent=\"college_map_app\")\n",
    "\n",
    "# Function to get latitude and longitude\n",
    "def geocode_address(row):\n",
    "    try:\n",
    "        # Create the address from state, county, city (You can adjust the format if needed)\n",
    "        address = f\"{row['city']}, {row['county']}, {row['state']}, USA\"\n",
    "        location = geolocator.geocode(address)\n",
    "        if location:\n",
    "            return location.latitude, location.longitude\n",
    "        else:\n",
    "            return None, None\n",
    "    except Exception as e:\n",
    "        return None, None\n",
    "\n",
    "# Apply geocoding function to each row and create new columns for latitude and longitude\n",
    "data['latitude'], data['longitude'] = zip(*data.apply(geocode_address, axis=1))\n",
    "\n",
    "# Drop rows where geocoding failed (i.e., latitude or longitude is None)\n",
    "data = data.dropna(subset=['latitude', 'longitude'])\n",
    "\n",
    "# Create a map centered on the US\n",
    "us_map = folium.Map(location=[39.8283, -98.5795], zoom_start=5)  # Coordinates of the US center\n",
    "\n",
    "# Create a list of coordinates (latitude, longitude) for the heatmap\n",
    "heat_data = [[row['latitude'], row['longitude']] for _, row in data.iterrows()]\n",
    "\n",
    "# Add the heatmap layer to the map\n",
    "HeatMap(heat_data).add_to(us_map)\n",
    "\n",
    "# Save the map to an HTML file\n",
    "us_map.save(\"colleges_heatmap.html\")\n",
    "\n"
   ]
  },
  {
   "cell_type": "code",
   "execution_count": 2,
   "id": "3915944e-10fb-47c9-9d89-615c8064eb0d",
   "metadata": {},
   "outputs": [
    {
     "name": "stdout",
     "output_type": "stream",
     "text": [
      "Welcome to this simulation, here you can find the total COVID cases up to May 2021 and the COVID cases reported from 2021 up to May 2021\n"
     ]
    },
    {
     "name": "stdin",
     "output_type": "stream",
     "text": [
      "Enter the name of the college and type 'leave' to exit):  ucsd\n"
     ]
    },
    {
     "name": "stdout",
     "output_type": "stream",
     "text": [
      "College was not found, please write the full name (For example, write University of California, Los Angeles, instead of UCLA\n"
     ]
    },
    {
     "name": "stdin",
     "output_type": "stream",
     "text": [
      "Enter the name of the college and type 'leave' to exit):  University of California, San DIego\n"
     ]
    },
    {
     "ename": "TypeError",
     "evalue": "can only concatenate str (not \"numpy.int64\") to str",
     "output_type": "error",
     "traceback": [
      "\u001b[0;31m---------------------------------------------------------------------------\u001b[0m",
      "\u001b[0;31mTypeError\u001b[0m                                 Traceback (most recent call last)",
      "Cell \u001b[0;32mIn[2], line 27\u001b[0m\n\u001b[1;32m     25\u001b[0m     \u001b[38;5;28mprint\u001b[39m(\u001b[38;5;124m\"\u001b[39m\u001b[38;5;124mCollege was not found, please write the full name (For example, write University of California, Los Angeles, instead of UCLA\u001b[39m\u001b[38;5;124m\"\u001b[39m)\n\u001b[1;32m     26\u001b[0m \u001b[38;5;28;01melse\u001b[39;00m:\n\u001b[0;32m---> 27\u001b[0m     \u001b[38;5;28mprint\u001b[39m(\u001b[38;5;124;43m\"\u001b[39;49m\u001b[38;5;124;43mThe number of cases is \u001b[39;49m\u001b[38;5;124;43m\"\u001b[39;49m\u001b[43m \u001b[49m\u001b[38;5;241;43m+\u001b[39;49m\u001b[43m  \u001b[49m\u001b[43mcases\u001b[49m \u001b[38;5;241m+\u001b[39m \u001b[38;5;124m\"\u001b[39m\u001b[38;5;124m total, and \u001b[39m\u001b[38;5;124m\"\u001b[39m \u001b[38;5;241m+\u001b[39m  cases_2021 \u001b[38;5;241m+\u001b[39m \u001b[38;5;124m\"\u001b[39m\u001b[38;5;124m in 2021\u001b[39m\u001b[38;5;124m\"\u001b[39m)\n",
      "\u001b[0;31mTypeError\u001b[0m: can only concatenate str (not \"numpy.int64\") to str"
     ]
    }
   ],
   "source": [
    "import pandas as pd\n",
    "data = pd.read_csv('colleges.csv')\n",
    "\n",
    "print(\"Welcome to this simulation, here you can find the total COVID cases up to May 2021 and the COVID cases reported from 2021 up to May 2021\")\n",
    "def college_cases(csv_filename, college):\n",
    "    college_row = data[data['college'].str.lower() == college.lower()]\n",
    "    \n",
    "    if not college_row.empty:  # If a match is found\n",
    "        cases = college_row['cases'].values[0]  # Total cases\n",
    "        cases_2021 = college_row['cases_2021'].values[0]  # Cases in 2021\n",
    "        return cases, cases_2021\n",
    "    else:\n",
    "        return None, None \n",
    "\n",
    "while True:\n",
    "    college = input(\"Enter the name of the college and type 'leave' to exit): \")\n",
    "\n",
    "    if college.lower() == 'leave':\n",
    "        print(\"Work here is done!\")\n",
    "        break  \n",
    "\n",
    "    cases, cases_2021 = college_cases('colleges.csv', college)\n",
    "\n",
    "    if cases is None:\n",
    "        print(\"College was not found, please write the full name (For example, write University of California, Los Angeles, instead of UCLA\")\n",
    "    else:\n",
    "        print(\"The number of cases is \" +  cases + \" total, and \" +  cases_2021 + \" in 2021\")\n"
   ]
  }
 ],
 "metadata": {
  "kernelspec": {
   "display_name": "Python 3 (ipykernel)",
   "language": "python",
   "name": "python3"
  },
  "language_info": {
   "codemirror_mode": {
    "name": "ipython",
    "version": 3
   },
   "file_extension": ".py",
   "mimetype": "text/x-python",
   "name": "python",
   "nbconvert_exporter": "python",
   "pygments_lexer": "ipython3",
   "version": "3.11.9"
  }
 },
 "nbformat": 4,
 "nbformat_minor": 5
}
